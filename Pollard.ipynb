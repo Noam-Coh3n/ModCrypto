{
  "nbformat": 4,
  "nbformat_minor": 0,
  "metadata": {
    "colab": {
      "provenance": [],
      "authorship_tag": "ABX9TyPTSj6MQSKVmB2FzXg0w8GK",
      "include_colab_link": true
    },
    "kernelspec": {
      "name": "python3",
      "display_name": "Python 3"
    },
    "language_info": {
      "name": "python"
    }
  },
  "cells": [
    {
      "cell_type": "markdown",
      "metadata": {
        "id": "view-in-github",
        "colab_type": "text"
      },
      "source": [
        "<a href=\"https://colab.research.google.com/github/Noam-Coh3n/ModCrypto/blob/main/Pollard.ipynb\" target=\"_parent\"><img src=\"https://colab.research.google.com/assets/colab-badge.svg\" alt=\"Open In Colab\"/></a>"
      ]
    },
    {
      "cell_type": "code",
      "execution_count": 38,
      "metadata": {
        "id": "bdXPRzNpRLJ2"
      },
      "outputs": [],
      "source": [
        "from math import sqrt, floor, gcd\n",
        "\n",
        "def trial_division(N):\n",
        "  for p in range(2, floor(sqrt(N))):\n",
        "    if N % p == 0:\n",
        "      break\n",
        "  else:\n",
        "    p = N\n",
        "\n",
        "  return p\n",
        "\n",
        "def Pollard_rho(N):\n",
        "  \n",
        "  x = y = 2\n",
        "  p = 1\n",
        "\n",
        "  while p == 1:\n",
        "    x = pow(x,2,N) + 1 % N\n",
        "    y = pow(pow(y,2,N) + 1, 2, N) + 1 % N\n",
        "    p = gcd(x-y, N)\n",
        "  \n",
        "  return p\n"
      ]
    },
    {
      "cell_type": "code",
      "source": [
        "p = 1486114403\n",
        "q = 4867169473\n",
        "N = p*q"
      ],
      "metadata": {
        "id": "REEddBUSSrbT"
      },
      "execution_count": 42,
      "outputs": []
    }
  ]
}