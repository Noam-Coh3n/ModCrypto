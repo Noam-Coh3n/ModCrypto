{
  "nbformat": 4,
  "nbformat_minor": 0,
  "metadata": {
    "colab": {
      "provenance": [],
      "authorship_tag": "ABX9TyNf8MCgLXryt9ew00fjQ0Xa",
      "include_colab_link": true
    },
    "kernelspec": {
      "name": "python3",
      "display_name": "Python 3"
    },
    "language_info": {
      "name": "python"
    }
  },
  "cells": [
    {
      "cell_type": "markdown",
      "metadata": {
        "id": "view-in-github",
        "colab_type": "text"
      },
      "source": [
        "<a href=\"https://colab.research.google.com/github/Noam-Coh3n/ModCrypto/blob/main/Pollard.ipynb\" target=\"_parent\"><img src=\"https://colab.research.google.com/assets/colab-badge.svg\" alt=\"Open In Colab\"/></a>"
      ]
    },
    {
      "cell_type": "code",
      "execution_count": 2,
      "metadata": {
        "id": "bdXPRzNpRLJ2"
      },
      "outputs": [],
      "source": [
        "from math import sqrt, gcd\n",
        "\n",
        "def trial_division(N):\n",
        "  for p in range(2, int(sqrt(N))):\n",
        "    if N % p == 0:\n",
        "      break\n",
        "  else:\n",
        "    p = N\n",
        "\n",
        "  return p\n",
        "\n",
        "def Pollard_rho(N):\n",
        "  \n",
        "  x = y = 2\n",
        "  p = 1\n",
        "\n",
        "  while p == 1:\n",
        "    x = pow(x,2,N) + 1 % N\n",
        "    y = pow(pow(y,2,N) + 1, 2, N) + 1 % N\n",
        "    p = gcd(x-y, N)\n",
        "  \n",
        "  return p\n"
      ]
    },
    {
      "cell_type": "markdown",
      "source": [
        "To test these functions, let's write a function that generates a random $N = pq$ where $p,q$ are random primes with $k$ (binary) digits.\n",
        "Since the amount of digits of a number $m$ is approximately $\\log_{2}(m)$, we get that the amount of digits of $N$ is approximately\n",
        "$$\n",
        "\\log_{2}(N) = \\log_{2}(pq) = \\log_{2}(p) + \\log_{2}(q) = 2k\n",
        "$$"
      ],
      "metadata": {
        "id": "3wlmikTtif1r"
      }
    },
    {
      "cell_type": "code",
      "source": [
        "from sympy import randprime\n",
        "\n",
        "def rand_composite(k):\n",
        "  \"\"\"Generate random N = pq where p,q are k-digit primes\"\"\"\n",
        "  lo = 2**k\n",
        "  hi = 2**(k+1)\n",
        "  return randprime(lo, hi) * randprime(lo, hi)"
      ],
      "metadata": {
        "id": "REEddBUSSrbT"
      },
      "execution_count": 3,
      "outputs": []
    },
    {
      "cell_type": "markdown",
      "source": [
        "Now, we use this to test our functions for varying sizes of $N$:"
      ],
      "metadata": {
        "id": "qVRE5ag-jHtk"
      }
    },
    {
      "cell_type": "code",
      "source": [
        "for k in range(10,35):\n",
        "  N = rand_composite(k)\n",
        "  print(k)\n",
        "  %timeit -r 1 -n 1 trial_division(N)"
      ],
      "metadata": {
        "id": "mqEElAv_Z_-w",
        "outputId": "3b247b7c-2a6f-4a2d-ca27-13394aeec2b8",
        "colab": {
          "base_uri": "https://localhost:8080/"
        }
      },
      "execution_count": 7,
      "outputs": [
        {
          "output_type": "stream",
          "name": "stdout",
          "text": [
            "10\n",
            "176 µs ± 0 ns per loop (mean ± std. dev. of 1 run, 1 loop each)\n",
            "11\n",
            "272 µs ± 0 ns per loop (mean ± std. dev. of 1 run, 1 loop each)\n",
            "12\n",
            "447 µs ± 0 ns per loop (mean ± std. dev. of 1 run, 1 loop each)\n",
            "13\n",
            "1.21 ms ± 0 ns per loop (mean ± std. dev. of 1 run, 1 loop each)\n",
            "14\n",
            "1.93 ms ± 0 ns per loop (mean ± std. dev. of 1 run, 1 loop each)\n",
            "15\n",
            "5.57 ms ± 0 ns per loop (mean ± std. dev. of 1 run, 1 loop each)\n",
            "16\n",
            "9.36 ms ± 0 ns per loop (mean ± std. dev. of 1 run, 1 loop each)\n",
            "17\n",
            "25.9 ms ± 0 ns per loop (mean ± std. dev. of 1 run, 1 loop each)\n",
            "18\n",
            "36.3 ms ± 0 ns per loop (mean ± std. dev. of 1 run, 1 loop each)\n",
            "19\n",
            "71 ms ± 0 ns per loop (mean ± std. dev. of 1 run, 1 loop each)\n",
            "20\n",
            "239 ms ± 0 ns per loop (mean ± std. dev. of 1 run, 1 loop each)\n",
            "21\n",
            "394 ms ± 0 ns per loop (mean ± std. dev. of 1 run, 1 loop each)\n",
            "22\n",
            "775 ms ± 0 ns per loop (mean ± std. dev. of 1 run, 1 loop each)\n",
            "23\n",
            "1.17 s ± 0 ns per loop (mean ± std. dev. of 1 run, 1 loop each)\n",
            "24\n",
            "2.88 s ± 0 ns per loop (mean ± std. dev. of 1 run, 1 loop each)\n",
            "25\n",
            "5.87 s ± 0 ns per loop (mean ± std. dev. of 1 run, 1 loop each)\n",
            "26\n",
            "16.6 s ± 0 ns per loop (mean ± std. dev. of 1 run, 1 loop each)\n",
            "27\n",
            "22.8 s ± 0 ns per loop (mean ± std. dev. of 1 run, 1 loop each)\n",
            "28\n",
            "53.2 s ± 0 ns per loop (mean ± std. dev. of 1 run, 1 loop each)\n",
            "29\n",
            "1min 20s ± 0 ns per loop (mean ± std. dev. of 1 run, 1 loop each)\n",
            "30\n",
            "3min 21s ± 0 ns per loop (mean ± std. dev. of 1 run, 1 loop each)\n",
            "31\n",
            "7min 4s ± 0 ns per loop (mean ± std. dev. of 1 run, 1 loop each)\n",
            "32\n",
            "23min 9s ± 0 ns per loop (mean ± std. dev. of 1 run, 1 loop each)\n",
            "33\n",
            "30min 6s ± 0 ns per loop (mean ± std. dev. of 1 run, 1 loop each)\n",
            "34\n",
            "51min 49s ± 0 ns per loop (mean ± std. dev. of 1 run, 1 loop each)\n"
          ]
        }
      ]
    },
    {
      "cell_type": "markdown",
      "source": [
        "So, our trial division can factor numbers with about 19 digits in 0.1 seconds, about 25 digits in 10 seconds and about 31 digits in 10 minutes."
      ],
      "metadata": {
        "id": "FPVVP6qCjfVu"
      }
    },
    {
      "cell_type": "code",
      "source": [
        "for k in list(range(20, 35)) + list(range(40, 61, 5)):\n",
        "  N = rand_composite(k)\n",
        "  print(k)\n",
        "  %timeit -r 1 -n 1 Pollard_rho(N)"
      ],
      "metadata": {
        "id": "Na83LaMPaJeC",
        "outputId": "b4e01280-11ab-4fba-aaac-67cd338213c3",
        "colab": {
          "base_uri": "https://localhost:8080/",
          "height": 1000
        }
      },
      "execution_count": 5,
      "outputs": [
        {
          "output_type": "stream",
          "name": "stdout",
          "text": [
            "20\n",
            "4.11 ms ± 0 ns per loop (mean ± std. dev. of 1 run, 1 loop each)\n",
            "21\n",
            "1.95 ms ± 0 ns per loop (mean ± std. dev. of 1 run, 1 loop each)\n",
            "22\n",
            "1.49 ms ± 0 ns per loop (mean ± std. dev. of 1 run, 1 loop each)\n",
            "23\n",
            "4.32 ms ± 0 ns per loop (mean ± std. dev. of 1 run, 1 loop each)\n",
            "24\n",
            "4.37 ms ± 0 ns per loop (mean ± std. dev. of 1 run, 1 loop each)\n",
            "25\n",
            "21.9 ms ± 0 ns per loop (mean ± std. dev. of 1 run, 1 loop each)\n",
            "26\n",
            "8.65 ms ± 0 ns per loop (mean ± std. dev. of 1 run, 1 loop each)\n",
            "27\n",
            "38.2 ms ± 0 ns per loop (mean ± std. dev. of 1 run, 1 loop each)\n",
            "28\n",
            "17.2 ms ± 0 ns per loop (mean ± std. dev. of 1 run, 1 loop each)\n",
            "29\n",
            "21.7 ms ± 0 ns per loop (mean ± std. dev. of 1 run, 1 loop each)\n",
            "30\n",
            "64.3 ms ± 0 ns per loop (mean ± std. dev. of 1 run, 1 loop each)\n",
            "31\n",
            "216 ms ± 0 ns per loop (mean ± std. dev. of 1 run, 1 loop each)\n",
            "32\n",
            "268 ms ± 0 ns per loop (mean ± std. dev. of 1 run, 1 loop each)\n",
            "33\n",
            "344 ms ± 0 ns per loop (mean ± std. dev. of 1 run, 1 loop each)\n",
            "34\n",
            "974 ms ± 0 ns per loop (mean ± std. dev. of 1 run, 1 loop each)\n",
            "40\n",
            "5.71 s ± 0 ns per loop (mean ± std. dev. of 1 run, 1 loop each)\n",
            "45\n",
            "5.63 s ± 0 ns per loop (mean ± std. dev. of 1 run, 1 loop each)\n",
            "50\n",
            "3min 10s ± 0 ns per loop (mean ± std. dev. of 1 run, 1 loop each)\n",
            "55\n",
            "13min 17s ± 0 ns per loop (mean ± std. dev. of 1 run, 1 loop each)\n",
            "60\n"
          ]
        },
        {
          "output_type": "error",
          "ename": "KeyboardInterrupt",
          "evalue": "ignored",
          "traceback": [
            "\u001b[0;31m---------------------------------------------------------------------------\u001b[0m",
            "\u001b[0;31mKeyboardInterrupt\u001b[0m                         Traceback (most recent call last)",
            "\u001b[0;32m<ipython-input-5-680b267f8a81>\u001b[0m in \u001b[0;36m<module>\u001b[0;34m\u001b[0m\n\u001b[1;32m      2\u001b[0m   \u001b[0mN\u001b[0m \u001b[0;34m=\u001b[0m \u001b[0mrand_composite\u001b[0m\u001b[0;34m(\u001b[0m\u001b[0mk\u001b[0m\u001b[0;34m)\u001b[0m\u001b[0;34m\u001b[0m\u001b[0;34m\u001b[0m\u001b[0m\n\u001b[1;32m      3\u001b[0m   \u001b[0mprint\u001b[0m\u001b[0;34m(\u001b[0m\u001b[0mk\u001b[0m\u001b[0;34m)\u001b[0m\u001b[0;34m\u001b[0m\u001b[0;34m\u001b[0m\u001b[0m\n\u001b[0;32m----> 4\u001b[0;31m   \u001b[0mget_ipython\u001b[0m\u001b[0;34m(\u001b[0m\u001b[0;34m)\u001b[0m\u001b[0;34m.\u001b[0m\u001b[0mrun_line_magic\u001b[0m\u001b[0;34m(\u001b[0m\u001b[0;34m'timeit'\u001b[0m\u001b[0;34m,\u001b[0m \u001b[0;34m'-r 1 -n 1 Pollard_rho(N)'\u001b[0m\u001b[0;34m)\u001b[0m\u001b[0;34m\u001b[0m\u001b[0;34m\u001b[0m\u001b[0m\n\u001b[0m",
            "\u001b[0;32m/usr/local/lib/python3.7/dist-packages/IPython/core/interactiveshell.py\u001b[0m in \u001b[0;36mrun_line_magic\u001b[0;34m(self, magic_name, line, _stack_depth)\u001b[0m\n\u001b[1;32m   2312\u001b[0m                 \u001b[0mkwargs\u001b[0m\u001b[0;34m[\u001b[0m\u001b[0;34m'local_ns'\u001b[0m\u001b[0;34m]\u001b[0m \u001b[0;34m=\u001b[0m \u001b[0msys\u001b[0m\u001b[0;34m.\u001b[0m\u001b[0m_getframe\u001b[0m\u001b[0;34m(\u001b[0m\u001b[0mstack_depth\u001b[0m\u001b[0;34m)\u001b[0m\u001b[0;34m.\u001b[0m\u001b[0mf_locals\u001b[0m\u001b[0;34m\u001b[0m\u001b[0;34m\u001b[0m\u001b[0m\n\u001b[1;32m   2313\u001b[0m             \u001b[0;32mwith\u001b[0m \u001b[0mself\u001b[0m\u001b[0;34m.\u001b[0m\u001b[0mbuiltin_trap\u001b[0m\u001b[0;34m:\u001b[0m\u001b[0;34m\u001b[0m\u001b[0;34m\u001b[0m\u001b[0m\n\u001b[0;32m-> 2314\u001b[0;31m                 \u001b[0mresult\u001b[0m \u001b[0;34m=\u001b[0m \u001b[0mfn\u001b[0m\u001b[0;34m(\u001b[0m\u001b[0;34m*\u001b[0m\u001b[0margs\u001b[0m\u001b[0;34m,\u001b[0m \u001b[0;34m**\u001b[0m\u001b[0mkwargs\u001b[0m\u001b[0;34m)\u001b[0m\u001b[0;34m\u001b[0m\u001b[0;34m\u001b[0m\u001b[0m\n\u001b[0m\u001b[1;32m   2315\u001b[0m             \u001b[0;32mreturn\u001b[0m \u001b[0mresult\u001b[0m\u001b[0;34m\u001b[0m\u001b[0;34m\u001b[0m\u001b[0m\n\u001b[1;32m   2316\u001b[0m \u001b[0;34m\u001b[0m\u001b[0m\n",
            "\u001b[0;32m<decorator-gen-53>\u001b[0m in \u001b[0;36mtimeit\u001b[0;34m(self, line, cell, local_ns)\u001b[0m\n",
            "\u001b[0;32m/usr/local/lib/python3.7/dist-packages/IPython/core/magic.py\u001b[0m in \u001b[0;36m<lambda>\u001b[0;34m(f, *a, **k)\u001b[0m\n\u001b[1;32m    185\u001b[0m     \u001b[0;31m# but it's overkill for just that one bit of state.\u001b[0m\u001b[0;34m\u001b[0m\u001b[0;34m\u001b[0m\u001b[0;34m\u001b[0m\u001b[0m\n\u001b[1;32m    186\u001b[0m     \u001b[0;32mdef\u001b[0m \u001b[0mmagic_deco\u001b[0m\u001b[0;34m(\u001b[0m\u001b[0marg\u001b[0m\u001b[0;34m)\u001b[0m\u001b[0;34m:\u001b[0m\u001b[0;34m\u001b[0m\u001b[0;34m\u001b[0m\u001b[0m\n\u001b[0;32m--> 187\u001b[0;31m         \u001b[0mcall\u001b[0m \u001b[0;34m=\u001b[0m \u001b[0;32mlambda\u001b[0m \u001b[0mf\u001b[0m\u001b[0;34m,\u001b[0m \u001b[0;34m*\u001b[0m\u001b[0ma\u001b[0m\u001b[0;34m,\u001b[0m \u001b[0;34m**\u001b[0m\u001b[0mk\u001b[0m\u001b[0;34m:\u001b[0m \u001b[0mf\u001b[0m\u001b[0;34m(\u001b[0m\u001b[0;34m*\u001b[0m\u001b[0ma\u001b[0m\u001b[0;34m,\u001b[0m \u001b[0;34m**\u001b[0m\u001b[0mk\u001b[0m\u001b[0;34m)\u001b[0m\u001b[0;34m\u001b[0m\u001b[0;34m\u001b[0m\u001b[0m\n\u001b[0m\u001b[1;32m    188\u001b[0m \u001b[0;34m\u001b[0m\u001b[0m\n\u001b[1;32m    189\u001b[0m         \u001b[0;32mif\u001b[0m \u001b[0mcallable\u001b[0m\u001b[0;34m(\u001b[0m\u001b[0marg\u001b[0m\u001b[0;34m)\u001b[0m\u001b[0;34m:\u001b[0m\u001b[0;34m\u001b[0m\u001b[0;34m\u001b[0m\u001b[0m\n",
            "\u001b[0;32m/usr/local/lib/python3.7/dist-packages/IPython/core/magics/execution.py\u001b[0m in \u001b[0;36mtimeit\u001b[0;34m(self, line, cell, local_ns)\u001b[0m\n\u001b[1;32m   1160\u001b[0m                     \u001b[0;32mbreak\u001b[0m\u001b[0;34m\u001b[0m\u001b[0;34m\u001b[0m\u001b[0m\n\u001b[1;32m   1161\u001b[0m \u001b[0;34m\u001b[0m\u001b[0m\n\u001b[0;32m-> 1162\u001b[0;31m         \u001b[0mall_runs\u001b[0m \u001b[0;34m=\u001b[0m \u001b[0mtimer\u001b[0m\u001b[0;34m.\u001b[0m\u001b[0mrepeat\u001b[0m\u001b[0;34m(\u001b[0m\u001b[0mrepeat\u001b[0m\u001b[0;34m,\u001b[0m \u001b[0mnumber\u001b[0m\u001b[0;34m)\u001b[0m\u001b[0;34m\u001b[0m\u001b[0;34m\u001b[0m\u001b[0m\n\u001b[0m\u001b[1;32m   1163\u001b[0m         \u001b[0mbest\u001b[0m \u001b[0;34m=\u001b[0m \u001b[0mmin\u001b[0m\u001b[0;34m(\u001b[0m\u001b[0mall_runs\u001b[0m\u001b[0;34m)\u001b[0m \u001b[0;34m/\u001b[0m \u001b[0mnumber\u001b[0m\u001b[0;34m\u001b[0m\u001b[0;34m\u001b[0m\u001b[0m\n\u001b[1;32m   1164\u001b[0m         \u001b[0mworst\u001b[0m \u001b[0;34m=\u001b[0m \u001b[0mmax\u001b[0m\u001b[0;34m(\u001b[0m\u001b[0mall_runs\u001b[0m\u001b[0;34m)\u001b[0m \u001b[0;34m/\u001b[0m \u001b[0mnumber\u001b[0m\u001b[0;34m\u001b[0m\u001b[0;34m\u001b[0m\u001b[0m\n",
            "\u001b[0;32m/usr/lib/python3.7/timeit.py\u001b[0m in \u001b[0;36mrepeat\u001b[0;34m(self, repeat, number)\u001b[0m\n\u001b[1;32m    203\u001b[0m         \u001b[0mr\u001b[0m \u001b[0;34m=\u001b[0m \u001b[0;34m[\u001b[0m\u001b[0;34m]\u001b[0m\u001b[0;34m\u001b[0m\u001b[0;34m\u001b[0m\u001b[0m\n\u001b[1;32m    204\u001b[0m         \u001b[0;32mfor\u001b[0m \u001b[0mi\u001b[0m \u001b[0;32min\u001b[0m \u001b[0mrange\u001b[0m\u001b[0;34m(\u001b[0m\u001b[0mrepeat\u001b[0m\u001b[0;34m)\u001b[0m\u001b[0;34m:\u001b[0m\u001b[0;34m\u001b[0m\u001b[0;34m\u001b[0m\u001b[0m\n\u001b[0;32m--> 205\u001b[0;31m             \u001b[0mt\u001b[0m \u001b[0;34m=\u001b[0m \u001b[0mself\u001b[0m\u001b[0;34m.\u001b[0m\u001b[0mtimeit\u001b[0m\u001b[0;34m(\u001b[0m\u001b[0mnumber\u001b[0m\u001b[0;34m)\u001b[0m\u001b[0;34m\u001b[0m\u001b[0;34m\u001b[0m\u001b[0m\n\u001b[0m\u001b[1;32m    206\u001b[0m             \u001b[0mr\u001b[0m\u001b[0;34m.\u001b[0m\u001b[0mappend\u001b[0m\u001b[0;34m(\u001b[0m\u001b[0mt\u001b[0m\u001b[0;34m)\u001b[0m\u001b[0;34m\u001b[0m\u001b[0;34m\u001b[0m\u001b[0m\n\u001b[1;32m    207\u001b[0m         \u001b[0;32mreturn\u001b[0m \u001b[0mr\u001b[0m\u001b[0;34m\u001b[0m\u001b[0;34m\u001b[0m\u001b[0m\n",
            "\u001b[0;32m/usr/local/lib/python3.7/dist-packages/IPython/core/magics/execution.py\u001b[0m in \u001b[0;36mtimeit\u001b[0;34m(self, number)\u001b[0m\n\u001b[1;32m    167\u001b[0m         \u001b[0mgc\u001b[0m\u001b[0;34m.\u001b[0m\u001b[0mdisable\u001b[0m\u001b[0;34m(\u001b[0m\u001b[0;34m)\u001b[0m\u001b[0;34m\u001b[0m\u001b[0;34m\u001b[0m\u001b[0m\n\u001b[1;32m    168\u001b[0m         \u001b[0;32mtry\u001b[0m\u001b[0;34m:\u001b[0m\u001b[0;34m\u001b[0m\u001b[0;34m\u001b[0m\u001b[0m\n\u001b[0;32m--> 169\u001b[0;31m             \u001b[0mtiming\u001b[0m \u001b[0;34m=\u001b[0m \u001b[0mself\u001b[0m\u001b[0;34m.\u001b[0m\u001b[0minner\u001b[0m\u001b[0;34m(\u001b[0m\u001b[0mit\u001b[0m\u001b[0;34m,\u001b[0m \u001b[0mself\u001b[0m\u001b[0;34m.\u001b[0m\u001b[0mtimer\u001b[0m\u001b[0;34m)\u001b[0m\u001b[0;34m\u001b[0m\u001b[0;34m\u001b[0m\u001b[0m\n\u001b[0m\u001b[1;32m    170\u001b[0m         \u001b[0;32mfinally\u001b[0m\u001b[0;34m:\u001b[0m\u001b[0;34m\u001b[0m\u001b[0;34m\u001b[0m\u001b[0m\n\u001b[1;32m    171\u001b[0m             \u001b[0;32mif\u001b[0m \u001b[0mgcold\u001b[0m\u001b[0;34m:\u001b[0m\u001b[0;34m\u001b[0m\u001b[0;34m\u001b[0m\u001b[0m\n",
            "\u001b[0;32m<magic-timeit>\u001b[0m in \u001b[0;36minner\u001b[0;34m(_it, _timer)\u001b[0m\n",
            "\u001b[0;32m<ipython-input-2-f545febab3c7>\u001b[0m in \u001b[0;36mPollard_rho\u001b[0;34m(N)\u001b[0m\n\u001b[1;32m     18\u001b[0m     \u001b[0mx\u001b[0m \u001b[0;34m=\u001b[0m \u001b[0mpow\u001b[0m\u001b[0;34m(\u001b[0m\u001b[0mx\u001b[0m\u001b[0;34m,\u001b[0m\u001b[0;36m2\u001b[0m\u001b[0;34m,\u001b[0m\u001b[0mN\u001b[0m\u001b[0;34m)\u001b[0m \u001b[0;34m+\u001b[0m \u001b[0;36m1\u001b[0m \u001b[0;34m%\u001b[0m \u001b[0mN\u001b[0m\u001b[0;34m\u001b[0m\u001b[0;34m\u001b[0m\u001b[0m\n\u001b[1;32m     19\u001b[0m     \u001b[0my\u001b[0m \u001b[0;34m=\u001b[0m \u001b[0mpow\u001b[0m\u001b[0;34m(\u001b[0m\u001b[0mpow\u001b[0m\u001b[0;34m(\u001b[0m\u001b[0my\u001b[0m\u001b[0;34m,\u001b[0m\u001b[0;36m2\u001b[0m\u001b[0;34m,\u001b[0m\u001b[0mN\u001b[0m\u001b[0;34m)\u001b[0m \u001b[0;34m+\u001b[0m \u001b[0;36m1\u001b[0m\u001b[0;34m,\u001b[0m \u001b[0;36m2\u001b[0m\u001b[0;34m,\u001b[0m \u001b[0mN\u001b[0m\u001b[0;34m)\u001b[0m \u001b[0;34m+\u001b[0m \u001b[0;36m1\u001b[0m \u001b[0;34m%\u001b[0m \u001b[0mN\u001b[0m\u001b[0;34m\u001b[0m\u001b[0;34m\u001b[0m\u001b[0m\n\u001b[0;32m---> 20\u001b[0;31m     \u001b[0mp\u001b[0m \u001b[0;34m=\u001b[0m \u001b[0mgcd\u001b[0m\u001b[0;34m(\u001b[0m\u001b[0mx\u001b[0m\u001b[0;34m-\u001b[0m\u001b[0my\u001b[0m\u001b[0;34m,\u001b[0m \u001b[0mN\u001b[0m\u001b[0;34m)\u001b[0m\u001b[0;34m\u001b[0m\u001b[0;34m\u001b[0m\u001b[0m\n\u001b[0m\u001b[1;32m     21\u001b[0m \u001b[0;34m\u001b[0m\u001b[0m\n\u001b[1;32m     22\u001b[0m   \u001b[0;32mreturn\u001b[0m \u001b[0mp\u001b[0m\u001b[0;34m\u001b[0m\u001b[0;34m\u001b[0m\u001b[0m\n",
            "\u001b[0;31mKeyboardInterrupt\u001b[0m: "
          ]
        }
      ]
    },
    {
      "cell_type": "markdown",
      "source": [
        "So, our Pollard Rho algorithm can factor numbers with about 30 digits in 0.1 seconds, about 50 digits in 10 seconds and about 55 digits in 10 minutes.\n",
        "\n",
        "Now, let's see at what size of $N$ Pollard rho becomes faster than trial division:"
      ],
      "metadata": {
        "id": "d0UTvoOQnwOK"
      }
    },
    {
      "cell_type": "code",
      "source": [
        "for k in range(1,15):\n",
        "  print(k)\n",
        "  %timeit -n 1000 trial_division(rand_composite(k))\n",
        "  %timeit -n 1000 Pollard_rho(rand_composite(k))"
      ],
      "metadata": {
        "id": "ksJj9dy_oYyW",
        "outputId": "774c9689-ad58-41d0-8213-1060e5f5920d",
        "colab": {
          "base_uri": "https://localhost:8080/"
        }
      },
      "execution_count": 164,
      "outputs": [
        {
          "output_type": "stream",
          "name": "stdout",
          "text": [
            "1\n",
            "9.86 µs ± 632 ns per loop (mean ± std. dev. of 7 runs, 1000 loops each)\n",
            "12.1 µs ± 346 ns per loop (mean ± std. dev. of 7 runs, 1000 loops each)\n",
            "2\n",
            "16.1 µs ± 1.25 µs per loop (mean ± std. dev. of 7 runs, 1000 loops each)\n",
            "18.1 µs ± 522 ns per loop (mean ± std. dev. of 7 runs, 1000 loops each)\n",
            "3\n",
            "18 µs ± 1.53 µs per loop (mean ± std. dev. of 7 runs, 1000 loops each)\n",
            "23.7 µs ± 1.48 µs per loop (mean ± std. dev. of 7 runs, 1000 loops each)\n",
            "4\n",
            "12.7 µs ± 1.8 µs per loop (mean ± std. dev. of 7 runs, 1000 loops each)\n",
            "22.8 µs ± 2.42 µs per loop (mean ± std. dev. of 7 runs, 1000 loops each)\n",
            "5\n",
            "15.1 µs ± 1.62 µs per loop (mean ± std. dev. of 7 runs, 1000 loops each)\n",
            "27.1 µs ± 530 ns per loop (mean ± std. dev. of 7 runs, 1000 loops each)\n",
            "6\n",
            "18.2 µs ± 1.89 µs per loop (mean ± std. dev. of 7 runs, 1000 loops each)\n",
            "28.4 µs ± 682 ns per loop (mean ± std. dev. of 7 runs, 1000 loops each)\n",
            "7\n",
            "26.6 µs ± 4.44 µs per loop (mean ± std. dev. of 7 runs, 1000 loops each)\n",
            "41.9 µs ± 3.44 µs per loop (mean ± std. dev. of 7 runs, 1000 loops each)\n",
            "8\n",
            "36.5 µs ± 1.62 µs per loop (mean ± std. dev. of 7 runs, 1000 loops each)\n",
            "60.2 µs ± 1.24 µs per loop (mean ± std. dev. of 7 runs, 1000 loops each)\n",
            "9\n",
            "67.2 µs ± 4.51 µs per loop (mean ± std. dev. of 7 runs, 1000 loops each)\n",
            "82.2 µs ± 1.87 µs per loop (mean ± std. dev. of 7 runs, 1000 loops each)\n",
            "10\n",
            "127 µs ± 4 µs per loop (mean ± std. dev. of 7 runs, 1000 loops each)\n",
            "101 µs ± 1.34 µs per loop (mean ± std. dev. of 7 runs, 1000 loops each)\n",
            "11\n",
            "243 µs ± 6.66 µs per loop (mean ± std. dev. of 7 runs, 1000 loops each)\n",
            "132 µs ± 2.32 µs per loop (mean ± std. dev. of 7 runs, 1000 loops each)\n",
            "12\n",
            "474 µs ± 8.98 µs per loop (mean ± std. dev. of 7 runs, 1000 loops each)\n",
            "211 µs ± 6.34 µs per loop (mean ± std. dev. of 7 runs, 1000 loops each)\n",
            "13\n",
            "935 µs ± 16.5 µs per loop (mean ± std. dev. of 7 runs, 1000 loops each)\n",
            "272 µs ± 6.39 µs per loop (mean ± std. dev. of 7 runs, 1000 loops each)\n",
            "14\n",
            "1.88 ms ± 30.8 µs per loop (mean ± std. dev. of 7 runs, 1000 loops each)\n",
            "511 µs ± 103 µs per loop (mean ± std. dev. of 7 runs, 1000 loops each)\n"
          ]
        }
      ]
    },
    {
      "cell_type": "markdown",
      "source": [
        "We can see that it becomes faster when $N$ is roughly 10 bits long.\n",
        "\n",
        "Now, we treat the results from a) as data points to fit a function of the form $f(x) = ax^b2^{cx}$ for certain constants $a,b,c$ where $x$ is the amount of digits of $N$."
      ],
      "metadata": {
        "id": "RiAFRZwTAMuJ"
      }
    },
    {
      "cell_type": "code",
      "source": [
        "from scipy.optimize import curve_fit\n",
        "import numpy as np\n",
        "\n",
        "def func(digits, a, b, c):\n",
        "  # Put a in exponent for efficiency\n",
        "  return digits**b * 2**(a + c*digits)\n",
        "\n",
        "trial_div_data = np.array([19, 25, 31]), np.array([.1, 10, 600])\n",
        "pollard_data = np.array([30, 50, 55]), np.array([.1, 10, 600])\n",
        "\n",
        "trial_div_params, _ = curve_fit(func, *trial_div_data, maxfev=100000)\n",
        "pollard_params, _ = curve_fit(func, *pollard_data, bounds=([-200, 0, 0], [0, 100, 1]), maxfev=100000)"
      ],
      "metadata": {
        "id": "Kb3zBKcy770d",
        "outputId": "e2e1b93d-75ae-4268-e202-ef4a64fbea56",
        "colab": {
          "base_uri": "https://localhost:8080/"
        }
      },
      "execution_count": 196,
      "outputs": [
        {
          "output_type": "stream",
          "name": "stderr",
          "text": [
            "/usr/local/lib/python3.7/dist-packages/scipy/optimize/minpack.py:834: OptimizeWarning: Covariance of the parameters could not be estimated\n",
            "  category=OptimizeWarning)\n"
          ]
        }
      ]
    },
    {
      "cell_type": "markdown",
      "source": [
        "Let's run a quick sanity check on these fittings:"
      ],
      "metadata": {
        "id": "hg85LjLbC6yz"
      }
    },
    {
      "cell_type": "code",
      "source": [
        "print(*[np.around(func(d, *trial_div_params), 10) for d in trial_div_data[0]])\n",
        "print(*[np.around(func(d, *pollard_params), 10) for d in pollard_data[0]])"
      ],
      "metadata": {
        "id": "HxebuGOi-XNR",
        "outputId": "891a560a-76e2-4766-cb6c-df637cd8b34a",
        "colab": {
          "base_uri": "https://localhost:8080/"
        }
      },
      "execution_count": 197,
      "outputs": [
        {
          "output_type": "stream",
          "name": "stdout",
          "text": [
            "0.1 10.0 600.0\n",
            "2.32e-08 10.0000000025 600.0000000859\n"
          ]
        }
      ]
    },
    {
      "cell_type": "markdown",
      "source": [
        "That looks good. So, by this extrapolation, for $N$'s of 1024 bits, we get an approximate runtime (in seconds) of: "
      ],
      "metadata": {
        "id": "YA15Yr2wC30g"
      }
    },
    {
      "cell_type": "code",
      "source": [
        "for m in (trial_div_params, pollard_params):\n",
        "  print(func(1024, *m))"
      ],
      "metadata": {
        "id": "zBZ00GGCDnAx",
        "outputId": "da46fca3-f80f-4756-e092-bc108a45dcf5",
        "colab": {
          "base_uri": "https://localhost:8080/"
        }
      },
      "execution_count": 198,
      "outputs": [
        {
          "output_type": "stream",
          "name": "stdout",
          "text": [
            "1.0249530731564563e+177\n",
            "7.166167192154138e+164\n"
          ]
        }
      ]
    },
    {
      "cell_type": "code",
      "source": [
        "np.around(trial_div_params, 1)"
      ],
      "metadata": {
        "id": "KDLIjQuzHcGp",
        "outputId": "2da9044a-bff5-4938-ece5-7332623f432b",
        "colab": {
          "base_uri": "https://localhost:8080/"
        }
      },
      "execution_count": 202,
      "outputs": [
        {
          "output_type": "execute_result",
          "data": {
            "text/plain": [
              "array([-50.1,   8.6,   0.5])"
            ]
          },
          "metadata": {},
          "execution_count": 202
        }
      ]
    },
    {
      "cell_type": "markdown",
      "source": [
        "Looking at the parameters for the fitted curve of the runtime for trial division, we see that we get a function in roughly $\\mathcal O(b^9 2^{\\frac12 b}) = \\mathcal O(\\sqrt{N}\\operatorname{polylog}(N))$ where $b$ is the amount of bits in $N$.\n",
        "This lines up with the theoretical runtime of trial division."
      ],
      "metadata": {
        "id": "FSWYIDHvInL9"
      }
    },
    {
      "cell_type": "code",
      "source": [
        "np.around(pollard_params, 1)"
      ],
      "metadata": {
        "id": "qbNi3bvxKBVm",
        "outputId": "20dc73f4-4a37-4c73-8256-1fc68ec20fe9",
        "colab": {
          "base_uri": "https://localhost:8080/"
        }
      },
      "execution_count": 203,
      "outputs": [
        {
          "output_type": "execute_result",
          "data": {
            "text/plain": [
              "array([-171.1,   27. ,    0.4])"
            ]
          },
          "metadata": {},
          "execution_count": 203
        }
      ]
    },
    {
      "cell_type": "markdown",
      "source": [
        "The complexity of Pollard Rho is theoretically $\\mathcal O(\\sqrt[4]{N} \\operatorname{polylog}(N)) = \\mathcal{O}(b^\\ell 2^{\\frac14 b})$ for some constant $\\ell$.\n",
        "As we see in the fitted parameters, we have something similar by extrapolation, although the factor in the exponent is a bit too high ($\\tfrac25$ instead of $\\tfrac14$).\n",
        "That's not all too surprising though, with how small our dataset was."
      ],
      "metadata": {
        "id": "fJ02k2MWL8Og"
      }
    },
    {
      "cell_type": "code",
      "source": [],
      "metadata": {
        "id": "i8QJsV2uNzfl"
      },
      "execution_count": null,
      "outputs": []
    }
  ]
}