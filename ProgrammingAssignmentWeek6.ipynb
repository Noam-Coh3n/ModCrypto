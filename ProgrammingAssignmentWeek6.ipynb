{
  "nbformat": 4,
  "nbformat_minor": 0,
  "metadata": {
    "colab": {
      "provenance": [],
      "collapsed_sections": [],
      "include_colab_link": true
    },
    "kernelspec": {
      "name": "python3",
      "display_name": "Python 3"
    }
  },
  "cells": [
    {
      "cell_type": "markdown",
      "metadata": {
        "id": "view-in-github",
        "colab_type": "text"
      },
      "source": [
        "<a href=\"https://colab.research.google.com/github/Noam-Coh3n/ModCrypto/blob/main/ProgrammingAssignmentWeek6.ipynb\" target=\"_parent\"><img src=\"https://colab.research.google.com/assets/colab-badge.svg\" alt=\"Open In Colab\"/></a>"
      ]
    },
    {
      "cell_type": "markdown",
      "metadata": {
        "id": "3AxkvhWuJ_oa"
      },
      "source": [
        "#Oracle"
      ]
    },
    {
      "cell_type": "code",
      "metadata": {
        "id": "tMkQI8BcSXLT"
      },
      "source": [
        "sign_sock = None\n",
        "vrfy_sock = None\n",
        "\n",
        "MAX_PACKET_LEN = 8192\n",
        "NOT_BINARY_STR_ERR = -1\n",
        "MISSING_DELIMITER_ERR = -2\n",
        "ORIGINAL_MSG_ERR = -3\n",
        "\n",
        "def Oracle_Connect():\n",
        "    import socket\n",
        "    global sign_sock\n",
        "    global vrfy_sock\n",
        "    sign_sock, vrfy_sock = socket.socket(socket.AF_INET, socket.SOCK_STREAM), socket.socket(socket.AF_INET, socket.SOCK_STREAM)\n",
        "    try:\n",
        "        sign_sock.connect(('128.8.130.16', 49104))\n",
        "        vrfy_sock.connect(('128.8.130.16', 49105))\n",
        "    except socket.error as e:\n",
        "        print(e)\n",
        "        return -1\n",
        "\n",
        "    print(\"Connected to server successfully.\")\n",
        "\n",
        "    return 0\n",
        "\n",
        "def Oracle_Disconnect():\n",
        "    if not sign_sock or not vrfy_sock:\n",
        "        print(\"[WARNING]: You haven't connected to the server yet.\")\n",
        "        return -1\n",
        "\n",
        "    sign_sock.close()\n",
        "    vrfy_sock.close()\n",
        "\n",
        "    print(\"Connection closed successfully.\")\n",
        "\n",
        "    return 0\n",
        "\n",
        "# Packet Structure: < message >\n",
        "# Message may be either a long integer, or a binary string\n",
        "def Sign(msg):\n",
        "    if not sign_sock or not vrfy_sock:\n",
        "        print(\"[WARNING]: You haven't connected to the server yet.\")\n",
        "        return -1\n",
        "    if msg < 0:\n",
        "        print(\"[ERROR]: Message cannot be negative!\")\n",
        "\n",
        "    if type(msg) is float or type(msg) is int:\n",
        "        msg = bin(msg)[2:]\n",
        "\n",
        "    pkt = bytes(msg + \"X\", \"utf-8\")\n",
        "    sign_sock.send(pkt)\n",
        "\n",
        "    resp = sign_sock.recv(MAX_PACKET_LEN)\n",
        "    try:\n",
        "        sigma = int(resp, 2)\n",
        "    except ValueError as e:\n",
        "        sigma = int(resp)\n",
        "\n",
        "    if sigma == NOT_BINARY_STR_ERR:\n",
        "        print(\"[ERROR]: Message was not a valid binary string.\")\n",
        "    if sigma == ORIGINAL_MSG_ERR:\n",
        "        print(\"[ERROR]: You cannot request a signature on the original message!\")\n",
        "\n",
        "    return sigma\n",
        "\n",
        "# Packet Structure: < message | \":\" | signature >\n",
        "# Message and signature may be either long integers, or binary strings\n",
        "def Verify(msg, sigma):\n",
        "    if not sign_sock or not vrfy_sock:\n",
        "        print(\"[WARNING]: You haven't conected to the server yet.\")\n",
        "        return -1\n",
        "    if msg < 0 or sigma < 0:\n",
        "        print(\"[ERROR]: Message and signature cannot be negative!\")\n",
        "        return -1\n",
        "\n",
        "    if type(msg) is float or type(msg) is int:\n",
        "        msg = bin(msg)[2:]\n",
        "    if type(sigma) is float or type(sigma) is int:\n",
        "        sigma = bin(sigma)[2:]\n",
        "\n",
        "    pkt = bytes(msg + \":\" + sigma + \"X\", 'utf-8')\n",
        "    vrfy_sock.send(pkt)\n",
        "\n",
        "    match = int(vrfy_sock.recv(MAX_PACKET_LEN))\n",
        "\n",
        "    if match == NOT_BINARY_STR_ERR:\n",
        "        print(\"[ERROR]: Message and/or signature were not valid binary strings.\")\n",
        "    elif match == MISSING_DELIMITER_ERR:\n",
        "        print(\"[ERROR]: Missing delimiter between message and signature.\")\n",
        "    return match\n"
      ],
      "execution_count": 3,
      "outputs": []
    },
    {
      "cell_type": "markdown",
      "metadata": {
        "id": "U-LqPpcFS-c1"
      },
      "source": [
        "# Helper"
      ]
    },
    {
      "cell_type": "code",
      "metadata": {
        "id": "k8Oz1xVnTBOV"
      },
      "source": [
        "def egcd(a, b):\n",
        "    if a == 0:\n",
        "        return (b, 0, 1)\n",
        "    else:\n",
        "        g, y, x = egcd(b % a, a)\n",
        "        return (g, x - (b // a) * y, y)\n",
        "\n",
        "def modinv(a, m):\n",
        "    gcd, x, y = egcd(a, m)\n",
        "    if gcd != 1:\n",
        "        return None  # modular inverse does not exist\n",
        "    else:\n",
        "        return x % m\n",
        "\n",
        "def ascii_to_int(m):\n",
        "    val = \"\"\n",
        "    for x in m:\n",
        "        val += hex(ord(x))[2:]\n",
        "    return int(\"0x\" + val,16)\n",
        "\n",
        "def ascii_to_bin(m):\n",
        "    val = \"\"\n",
        "    for x in m:\n",
        "        val += bin(ord(x))[2:].zfill(8)\n",
        "    return val"
      ],
      "execution_count": 8,
      "outputs": []
    },
    {
      "cell_type": "markdown",
      "metadata": {
        "id": "en_CICZmS6LN"
      },
      "source": [
        "# Sample"
      ]
    },
    {
      "cell_type": "code",
      "metadata": {
        "colab": {
          "base_uri": "https://localhost:8080/"
        },
        "id": "ZzgqaV7qS7_T",
        "outputId": "82a1b10e-81ef-42cc-d45e-70cec743a343"
      },
      "source": [
        "n = 119077393994976313358209514872004186781083638474007212865571534799455802984783764695504518716476645854434703350542987348935664430222174597252144205891641172082602942313168180100366024600206994820541840725743590501646516068078269875871068596540116450747659687492528762004294694507524718065820838211568885027869\n",
        "\n",
        "e = 65537\n",
        "\n",
        "Oracle_Connect()\n",
        "\n",
        "msg = \"Crypto is hard --- even schemes that look complex can be broken\"\n",
        "\n",
        "m = ascii_to_int(msg)\n",
        "\n",
        "# Should fail, because you're not allowed to query on the original message\n",
        "sigma = Sign(m)\n",
        "assert(sigma < 0)\n",
        "\n",
        "# All other arbitrary messages <= 504 bits should be accepted by the oracle\n",
        "msg = \"Hello, World!\"\n",
        "\n",
        "m = ascii_to_int(msg)\n",
        "\n",
        "sigma = Sign(m)\n",
        "if sigma < 0:\n",
        "    raise SystemExit\n",
        "\n",
        "if Verify(m,sigma):\n",
        "    print(\"Oracle is working properly!\")\n",
        "\n",
        "Oracle_Disconnect()\n"
      ],
      "execution_count": 5,
      "outputs": [
        {
          "output_type": "stream",
          "name": "stdout",
          "text": [
            "Connected to server successfully.\n",
            "[ERROR]: You cannot request a signature on the original message!\n",
            "Oracle is working properly!\n",
            "Connection closed successfully.\n"
          ]
        },
        {
          "output_type": "execute_result",
          "data": {
            "text/plain": [
              "0"
            ]
          },
          "metadata": {},
          "execution_count": 5
        }
      ]
    },
    {
      "cell_type": "markdown",
      "metadata": {
        "id": "2CIrRdWlKn60"
      },
      "source": [
        "#Solution"
      ]
    },
    {
      "cell_type": "code",
      "metadata": {
        "colab": {
          "base_uri": "https://localhost:8080/"
        },
        "id": "RVFe_qGnTTjk",
        "outputId": "d3decaae-e217-4612-d4a0-91ce7de3c696"
      },
      "source": [
        "from sympy import pollard_rho\n",
        "\n",
        "n = 119077393994976313358209514872004186781083638474007212865571534799455802984783764695504518716476645854434703350542987348935664430222174597252144205891641172082602942313168180100366024600206994820541840725743590501646516068078269875871068596540116450747659687492528762004294694507524718065820838211568885027869\n",
        "e = 65537\n",
        "\n",
        "Oracle_Connect()\n",
        "\n",
        "msg = \"Crypto is hard --- even schemes that look complex can be broken\"\n",
        "m = ascii_to_int(msg)\n",
        "\n",
        "## your attack here!\n",
        "p = pollard_rho(m)\n",
        "x = modinv(Sign(1), n)\n",
        "\n",
        "sigma = Sign(p) * Sign(m//p) * x % n\n",
        "\n",
        "\n",
        "ver = Verify(m,sigma)\n",
        "\n",
        "if ver:\n",
        "    print(\"Mission accomplished!\")\n",
        "\n",
        "Oracle_Disconnect()\n"
      ],
      "execution_count": 22,
      "outputs": [
        {
          "output_type": "stream",
          "name": "stdout",
          "text": [
            "Connected to server successfully.\n",
            "Mission accomplished!\n",
            "Connection closed successfully.\n"
          ]
        },
        {
          "output_type": "execute_result",
          "data": {
            "text/plain": [
              "0"
            ]
          },
          "metadata": {},
          "execution_count": 22
        }
      ]
    },
    {
      "cell_type": "code",
      "source": [],
      "metadata": {
        "id": "b4mUWz6BhQd3"
      },
      "execution_count": null,
      "outputs": []
    }
  ]
}