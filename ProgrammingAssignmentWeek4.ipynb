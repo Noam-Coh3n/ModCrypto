{
  "nbformat": 4,
  "nbformat_minor": 0,
  "metadata": {
    "colab": {
      "provenance": [],
      "include_colab_link": true
    },
    "kernelspec": {
      "name": "python3",
      "display_name": "Python 3"
    }
  },
  "cells": [
    {
      "cell_type": "markdown",
      "metadata": {
        "id": "view-in-github",
        "colab_type": "text"
      },
      "source": [
        "<a href=\"https://colab.research.google.com/github/Noam-Coh3n/ModCrypto/blob/main/ProgrammingAssignmentWeek4.ipynb\" target=\"_parent\"><img src=\"https://colab.research.google.com/assets/colab-badge.svg\" alt=\"Open In Colab\"/></a>"
      ]
    },
    {
      "cell_type": "markdown",
      "metadata": {
        "id": "3AxkvhWuJ_oa"
      },
      "source": [
        "#Oracle"
      ]
    },
    {
      "cell_type": "code",
      "metadata": {
        "id": "dNXgudyPJ8bx"
      },
      "source": [
        "import numpy as np\n",
        "mac_sock = None\n",
        "vrfy_sock = None\n",
        "\n",
        "def Oracle_Connect():\n",
        "    import socket\n",
        "    global mac_sock\n",
        "    global vrfy_sock\n",
        "    mac_sock = socket.socket(socket.AF_INET, socket.SOCK_STREAM)\n",
        "    vrfy_sock = socket.socket(socket.AF_INET, socket.SOCK_STREAM)\n",
        "    try:\n",
        "        mac_sock.connect(('128.8.130.16', 49102))\n",
        "        vrfy_sock.connect(('128.8.130.16', 49103))\n",
        "    except socket.error as e:\n",
        "        print(e)\n",
        "        return -1\n",
        "\n",
        "    print(\"Connected to server successfully.\")\n",
        "\n",
        "    return 0\n",
        "\n",
        "def Oracle_Disconnect():\n",
        "    if not mac_sock or not vrfy_sock:\n",
        "        print(\"[WARNING]: You haven't connected to the server yet.\")\n",
        "        return -1\n",
        "\n",
        "    mac_sock.close()\n",
        "    vrfy_sock.close()\n",
        "\n",
        "    print(\"Connection closed successfully.\")\n",
        "\n",
        "    return 0\n",
        "\n",
        "# Packet Structure: < mlength(1) || message(mlength) || null-terminator(1) >\n",
        "def Mac(message, mlength):\n",
        "    if not mac_sock or not vrfy_sock:\n",
        "        print(\"[WARNING]: You haven't connected to the server yet.\")\n",
        "        return -1\n",
        "\n",
        "    out = bytearray(message[:])\n",
        "    out.insert(0, mlength)\n",
        "    out.append(0)\n",
        "\n",
        "    mac_sock.send(bytearray(out))\n",
        "\n",
        "    tag = mac_sock.recv(16)\n",
        "\n",
        "    return bytearray(tag)\n",
        "\n",
        "# Packet Structure: < mlength(1) || message(mlength) || tag(16) || null-terminator(1) >\n",
        "def Vrfy(message, mlength, tag):\n",
        "    if not mac_sock or not vrfy_sock:\n",
        "        print(\"[WARNING]: You haven't conected to the server yet.\")\n",
        "        return -1\n",
        "\n",
        "    out = bytearray(message[:])\n",
        "    out.insert(0, mlength)\n",
        "    out += tag\n",
        "    out.append(0)\n",
        "\n",
        "    vrfy_sock.send(bytearray(out))\n",
        "\n",
        "    match = vrfy_sock.recv(2)\n",
        "    \n",
        "    return int(match.decode('ascii').strip('\\0'))\n"
      ],
      "execution_count": 20,
      "outputs": []
    },
    {
      "cell_type": "markdown",
      "metadata": {
        "id": "2CIrRdWlKn60"
      },
      "source": [
        "#Solution\n",
        "For an explanation of the solution, see the homework pdf."
      ]
    },
    {
      "cell_type": "code",
      "source": [
        "def xor_block(b1, b2):\n",
        "  \"\"\"Returns the element-wise XOR of two lists.\"\"\"\n",
        "  return [c1 ^ c2 for c1, c2 in zip(b1,b2)]\n",
        "\n",
        "def forge(m_forge, L):\n",
        "  \"\"\"\n",
        "  Forge a tag for 2r-block message m_forge using queries on r-block messages.\n",
        "  \"\"\"\n",
        "  r = len(m_forge) // L // 2\n",
        "  m = [m_forge[i*L : (i+1)*L] for i in range(2*r)]  # Split message\n",
        "  t = Mac(sum(m[:r], []), r*L)\n",
        "\n",
        "  return Mac(xor_block(t, m[r]) + sum(m[r+1:], []), r*L)\n"
      ],
      "metadata": {
        "id": "_brBMwhunKv7"
      },
      "execution_count": 35,
      "outputs": []
    },
    {
      "cell_type": "code",
      "metadata": {
        "id": "aF6sHOZEKp2F",
        "colab": {
          "base_uri": "https://localhost:8080/"
        },
        "outputId": "6ea90461-8575-4511-ac3c-ed640e8269d1"
      },
      "source": [
        "# Your goal is to forge a valid tag on the 4-block (64-byte) message:\n",
        "m_forge = \"I, the server, hereby agree that I will pay $100 to this student\"\n",
        "m_forge_enc = [ord(c) for c in m_forge]\n",
        "\n",
        "L = len(m_forge) // 4\n",
        "\n",
        "Oracle_Connect()\n",
        "\n",
        "t = forge(m_forge_enc, L)\n",
        "\n",
        "ret = Vrfy(m_forge_enc, 4*L, t)\n",
        "\n",
        "if (ret == 1):\n",
        "    print(f\"Message {m_forge!r} verified successfully!\")\n",
        "else:\n",
        "    print(\"Message verification failed.\")\n",
        "\n",
        "Oracle_Disconnect()"
      ],
      "execution_count": 43,
      "outputs": [
        {
          "output_type": "stream",
          "name": "stdout",
          "text": [
            "Connected to server successfully.\n",
            "Message 'I, the server, hereby agree that I will pay $100 to this student' verified successfully!\n",
            "Connection closed successfully.\n"
          ]
        },
        {
          "output_type": "execute_result",
          "data": {
            "text/plain": [
              "0"
            ]
          },
          "metadata": {},
          "execution_count": 43
        }
      ]
    },
    {
      "cell_type": "code",
      "source": [],
      "metadata": {
        "id": "c50xlLgeo3RZ"
      },
      "execution_count": null,
      "outputs": []
    }
  ]
}