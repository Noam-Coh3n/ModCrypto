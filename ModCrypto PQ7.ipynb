{
 "cells": [
  {
   "cell_type": "code",
   "execution_count": 2,
   "metadata": {},
   "outputs": [],
   "source": [
    "s = None\n",
    "\n",
    "def Oracle_Connect():\n",
    "    import socket\n",
    "    global s\n",
    "    s = socket.socket(socket.AF_INET, socket.SOCK_STREAM)\n",
    "    try:\n",
    "        s.connect(('128.8.130.16', 49101))\n",
    "    except socket.error as e:\n",
    "        print(e)\n",
    "        return -1\n",
    "\n",
    "    print(\"Connected to server successfully.\")\n",
    "\n",
    "    return 0\n",
    "\n",
    "def Oracle_Disconnect():\n",
    "    if not s:\n",
    "        print(\"[WARNING]: You haven't connected to the server yet.\")\n",
    "        return -1\n",
    "\n",
    "    s.close()\n",
    "    print(\"Connection closed successfully.\")\n",
    "\n",
    "    return 0\n",
    "\n",
    "# Packet Structure: < num_blocks(1) || ciphertext(16*num_blocks) || null-terminator(1) >\n",
    "def Oracle_Send(ctext, num_blocks):\n",
    "    if not s:\n",
    "        print(\"[WARNING]: You haven't connected to the server yet.\")\n",
    "        return -1\n",
    "\n",
    "    msg = ctext[:]\n",
    "    msg.insert(0, num_blocks)\n",
    "    msg.append(0)\n",
    "\n",
    "    s.send(bytearray(msg))\n",
    "    \n",
    "    ### IMPLEMENTATION FOR NUMPY ARRAYS ###\n",
    "#     msg = np.concatenate(([num_blocks], ctext, [0])).astype(np.uint8)\n",
    "#     s.send(msg.tobytes())\n",
    "    \n",
    "    recvbit = s.recv(2)\n",
    "\n",
    "    try:\n",
    "        return int(recvbit)\n",
    "    except ValueError as e:\n",
    "        return int(recvbit.decode()[0])"
   ]
  },
  {
   "cell_type": "markdown",
   "metadata": {},
   "source": [
    "Alrighty, let's get to cracking.\n",
    "Firstly, we take the block length and ciphertext as given in the assignment:"
   ]
  },
  {
   "cell_type": "code",
   "execution_count": 3,
   "metadata": {},
   "outputs": [],
   "source": [
    "L = 16\n",
    "\n",
    "# The ciphertext\n",
    "data = \"9F0B13944841A832B2421B9EAF6D9836813EC9D944A5C8347A7CA69AA34D8DC0DF70E343C4000A2AE35874CE75E64C31\""
   ]
  },
  {
   "cell_type": "markdown",
   "metadata": {},
   "source": [
    "We're implementing a padding oracle attack.\n",
    "For the concept of the attack, see $\\href{https://github.com/Noam-Coh3n/ModCrypto/blob/main/POA.pdf}{\\text{these slides}}$ or $\\href{https://en.wikipedia.org/wiki/Padding_oracle_attack#Attacks_using_padding_oracles}{\\text{this wikipedia page}}$.\n",
    "The last block has padding, so we want a function that determines the exact padding.\n",
    "For convenience, we'll first define a function that flips a bit in a certain position in a ciphertext, sends it to the oracle for verification and then restores the original ciphertext."
   ]
  },
  {
   "cell_type": "code",
   "execution_count": null,
   "metadata": {},
   "outputs": [],
   "source": [
    "def check_flipped(cc, i):\n",
    "    cc[i] ^= 1               # Change byte i\n",
    "    rc = Oracle_Send(cc, 2)\n",
    "    cc[i] ^= 1               # Restore byte i\n",
    "    return rc"
   ]
  },
  {
   "cell_type": "markdown",
   "metadata": {},
   "source": [
    "To determine the padding, we need the last two blocks of the ciphertext, $C_1$ and $C_2$, since the first one is used to xor with the output of the decryption function on the second block, $\\mathrm{Dec}_k(C_2)$ to determine the plaintext $P_2 = \\mathrm{Dec}_k(C_2) \\oplus C_1$.\n",
    "Now, starting at $C_1[0]$, we flip a bit, changing the byte, and send the new $C_1'$ to the server for verification, since this bit is xor'ed with a bit in $\\mathrm{Dec}_k(C_2)$, this results in a plaintext $P_2'$ which differs from $P_2$ precisely on byte $0$.\n",
    "If the server verifies the padding, we know byte $0$ wasn't part of the padding, so we flip $C_1[0]$ back and move on to $C_1[1]$.\n",
    "Since there is padding of the form $\\overbrace{p\\;p \\cdots p}^{p \\text{times}}$ for some byte value $p$, this process will eventually reach a byte with value $p$ that's part of the padding and change its value.\n",
    "Since $p-1$ times a $p$ at the end isn't a valid padding anymore, the server will then give an error.\n",
    "If this happens on position $i$ with blocklength $L$, we know the padding has length $L-i$ and thus also have value $L-i$."
   ]
  },
  {
   "cell_type": "code",
   "execution_count": null,
   "metadata": {},
   "outputs": [],
   "source": [
    "def padding(cc):\n",
    "    i = 0\n",
    "    while check_flipped(cc, i):\n",
    "        i += 1\n",
    "        \n",
    "    return L - i"
   ]
  },
  {
   "cell_type": "markdown",
   "metadata": {},
   "source": [
    "Given the padding of $P_2$, we want to use this to obtain the rest of $P_2$, which we can do as follows:\n",
    "We know $P_2 = \\mathrm{Dec}_k(C_2) \\oplus C_1$ ends in $p$ times a byte with value $p$, now to determine the last byte before the padding (call this position $x$), we can change the value of $C_1$ in a way, that we force the last $p$ bytes to equal $p+1$:\n",
    "simply xor the last $p$ bits with $p \\oplus (p+1)$, then $$P'_2 = \\mathrm{Dec}_k(C_2) \\oplus C'_1 = \\mathrm{Dec}_k(C_2) \\oplus C_1 \\oplus p \\oplus (p + 1) = P_2 \\oplus p \\oplus (p+1).$$\n",
    "For the last $p$ bytes, $P_2 = p$, so this becomes\n",
    "$$\n",
    "    p \\oplus p \\oplus (p+1) = p+1.\n",
    "$$\n",
    "Now, the server will reject this because of invalid padding, unless the value of $P_2'$ at $x$ is equal to $p+1$ as well, since $p+1$ times the value $p+1$ is a valid padding again.\n",
    "We can loop through all the possible byte values $b$ for $C_1[x]$ until the server accepts the padding, at which point we'll know $P_2'[x] = p+1$.\n",
    "Then $\\mathrm{Dec}_k(C_2)[x]$ must equal $b \\oplus (p+1)$, so $P_2[x] = b \\oplus (p+1) \\oplus C_1[x]$. \n",
    "We can now let the last $p+1$ bytes be $p+2$ and repeat the process for the byte at position $x-1$.\n",
    "Doing this for all the bytes will yields the original message."
   ]
  },
  {
   "cell_type": "code",
   "execution_count": null,
   "metadata": {},
   "outputs": [],
   "source": [
    "def decrypt(cc, p):\n",
    "    m = [0]*(L-p)\n",
    "    for pp in range(p + 1, L + 1):             # Let pp be the new padding value (p+1 in the explanation above)\n",
    "        for pad_byte in range(L-1, L-pp, -1):  # loop through last pp-1 bytes of C_1\n",
    "            cc[pad_byte] ^= pp ^ (pp - 1)      # force P'_2 to have pp as last (pp-1) values\n",
    "\n",
    "        x   = L - pp\n",
    "        C1x = cc[x]\n",
    "        \n",
    "        for b in range(256):\n",
    "            cc[x] = b\n",
    "    \n",
    "            # check if padding is accepted\n",
    "            if Oracle_Send(cc, 2):\n",
    "                m[x] = b ^ pp ^ C1x\n",
    "                break\n",
    "    return m"
   ]
  },
  {
   "cell_type": "markdown",
   "metadata": {},
   "source": [
    "Now, lets put it all together in one nice function:"
   ]
  },
  {
   "cell_type": "code",
   "execution_count": 12,
   "metadata": {},
   "outputs": [],
   "source": [
    "def crack(data, blocks):\n",
    "    Oracle_Connect()\n",
    "\n",
    "    # convert ciphertext data into list of integers\n",
    "    ctext = [(int(data[i : i + 2], 16)) for i in range(0, len(data), 2)]\n",
    "\n",
    "    rc = Oracle_Send(ctext, blocks)\n",
    "    print(f\"Oracle returned: {rc}\")\n",
    "    \n",
    "    # decryption requires two consecutive blocks\n",
    "    CC = [ctext[i:i+2*L] for i in range(0, len(ctext) - L, L)]\n",
    "\n",
    "    m = ''\n",
    "\n",
    "    pad = True\n",
    "    for cc in CC[::-1]:\n",
    "        p = padding(cc) if pad else 0\n",
    "        m = ''.join([chr(x) for x in decrypt(cc, p)]) + m\n",
    "        \n",
    "        # only last block has padding\n",
    "        pad = False                             \n",
    "\n",
    "    Oracle_Disconnect()\n",
    "    return m"
   ]
  },
  {
   "cell_type": "code",
   "execution_count": 11,
   "metadata": {},
   "outputs": [
    {
     "name": "stdout",
     "output_type": "stream",
     "text": [
      "Connected to server successfully.\n",
      "Oracle returned: 1\n",
      "Connection closed successfully.\n",
      "The original messge was: Yay! You get an A. =).\n"
     ]
    }
   ],
   "source": [
    "m = crack(data, 3)\n",
    "print(f'The original messge was: {m}.')"
   ]
  },
  {
   "cell_type": "code",
   "execution_count": null,
   "metadata": {},
   "outputs": [],
   "source": []
  }
 ],
 "metadata": {
  "kernelspec": {
   "display_name": "Python 3 (ipykernel)",
   "language": "python",
   "name": "python3"
  },
  "language_info": {
   "codemirror_mode": {
    "name": "ipython",
    "version": 3
   },
   "file_extension": ".py",
   "mimetype": "text/x-python",
   "name": "python",
   "nbconvert_exporter": "python",
   "pygments_lexer": "ipython3",
   "version": "3.8.10"
  }
 },
 "nbformat": 4,
 "nbformat_minor": 4
}
