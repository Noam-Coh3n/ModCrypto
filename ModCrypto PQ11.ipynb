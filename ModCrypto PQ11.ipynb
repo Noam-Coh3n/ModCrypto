{
  "nbformat": 4,
  "nbformat_minor": 0,
  "metadata": {
    "colab": {
      "provenance": [],
      "collapsed_sections": [],
      "include_colab_link": true
    },
    "kernelspec": {
      "name": "python3",
      "display_name": "Python 3"
    },
    "language_info": {
      "name": "python"
    }
  },
  "cells": [
    {
      "cell_type": "markdown",
      "metadata": {
        "id": "view-in-github",
        "colab_type": "text"
      },
      "source": [
        "<a href=\"https://colab.research.google.com/github/Noam-Coh3n/ModCrypto/blob/main/ModCrypto%20PQ11.ipynb\" target=\"_parent\"><img src=\"https://colab.research.google.com/assets/colab-badge.svg\" alt=\"Open In Colab\"/></a>"
      ]
    },
    {
      "cell_type": "markdown",
      "source": [
        "**1. Generation**"
      ],
      "metadata": {
        "id": "xGGbvf4zBDkz"
      }
    },
    {
      "cell_type": "code",
      "source": [
        "import numpy as np\n",
        "import random\n",
        "from math import ceil\n",
        "\n",
        "M = 10000000\n",
        "\n",
        "def Gen(n):\n",
        "    \"\"\"\n",
        "    This function generates the key by creating an array that represents the\n",
        "    letters in the alfabet and takes the frequencies of these letters (based) on\n",
        "    English texts) and selects random mappings for each letter. The amount of\n",
        "    mappings is determined by dividing the highest frequency with the frequency\n",
        "    of the current letter.\n",
        "    \"\"\"\n",
        "\n",
        "    key = list(range(26))\n",
        "\n",
        "    freq = np.array([\n",
        "    8.2, 1.5, 2.8, 4.3, 13, 2.2, 2, 6.1, 7, .15, .77, 4, 2.4, 6.7,\n",
        "    7.5, 1.9, .095, 6, 6.3, 9.1, 2.8, .98, 2.4, .15, 2, .074\n",
        "    ])\n",
        "\n",
        "    l = np.ceil(freq * n).astype(int)\n",
        "    cut_idx = np.cumsum(l)\n",
        "    random_values = random.sample(range(M), sum(l))\n",
        "    return list(map(set, np.split(random_values, cut_idx[:-1])))\n",
        "  "
      ],
      "metadata": {
        "id": "xuxtIZ1mBOM6"
      },
      "execution_count": 43,
      "outputs": []
    },
    {
      "cell_type": "markdown",
      "source": [
        "**2. Encryption**"
      ],
      "metadata": {
        "id": "eV0Mr5kpBv92"
      }
    },
    {
      "cell_type": "code",
      "source": [
        "def Enc(key, message):\n",
        "    \"\"\"\n",
        "    This function outputs the ciphertext by iterating over the message. For each\n",
        "    character in the message one of the mappings get chosen randomly.\n",
        "    \"\"\"\n",
        "    cipher = np.empty(len(message),dtype=int)\n",
        "    for i in range(len(message)):\n",
        "        m = ord(message[i]) - 97\n",
        "        cipher[i] = random.choice(tuple(key[m]))\n",
        "\n",
        "    return cipher\n",
        "\n",
        "key = Gen(1)\n",
        "m = 'thisisasecretmessage'\n",
        "Enc(key, m)"
      ],
      "metadata": {
        "id": "m0ty8g5SBS3c",
        "colab": {
          "base_uri": "https://localhost:8080/"
        },
        "outputId": "04dc74f3-12c9-4dcf-bea7-b8a5edd7b91a"
      },
      "execution_count": 47,
      "outputs": [
        {
          "output_type": "execute_result",
          "data": {
            "text/plain": [
              "array([6291607, 8397647, 5148449, 4120810, 5675698,  448416, 5896425,\n",
              "       2556716, 4192198,  368877, 8742626, 4281891, 7418382, 5766551,\n",
              "       5999470, 9149732, 4120810, 5071043,  392685, 6261499])"
            ]
          },
          "metadata": {},
          "execution_count": 47
        }
      ]
    },
    {
      "cell_type": "markdown",
      "source": [
        "**3. Decryption**"
      ],
      "metadata": {
        "id": "SrBPF-7pB2bC"
      }
    },
    {
      "cell_type": "code",
      "source": [
        "def Dec(key, ciphertext):\n",
        "    \"\"\"\n",
        "    This function takes the ciphertext and decrypts it by an inverse lookup in\n",
        "    the key. Since a mapping cannot be used twice, the probability that the\n",
        "    decryption function (with input only the letters a-z) gives us the correct\n",
        "    message is exactly 1.\n",
        "    \"\"\"\n",
        "\n",
        "    output = \"\"\n",
        "\n",
        "    for val in ciphertext:\n",
        "        vec_func = np.vectorize(lambda x: val in x, otypes=[int])\n",
        "        pos = np.where(vec_func(key))[0][0]\n",
        "        letter = chr(pos + 97)\n",
        "        output += letter\n",
        "\n",
        "    return output\n",
        "\n",
        "Dec(key, Enc(key, m))"
      ],
      "metadata": {
        "id": "LYlIvCGGBXe9",
        "colab": {
          "base_uri": "https://localhost:8080/",
          "height": 35
        },
        "outputId": "c0d9c45d-5cfd-4480-8171-aadfd8880a2f"
      },
      "execution_count": 48,
      "outputs": [
        {
          "output_type": "execute_result",
          "data": {
            "text/plain": [
              "'thisisasecretmessage'"
            ],
            "application/vnd.google.colaboratory.intrinsic+json": {
              "type": "string"
            }
          },
          "metadata": {},
          "execution_count": 48
        }
      ]
    },
    {
      "cell_type": "markdown",
      "source": [
        "Main Program"
      ],
      "metadata": {
        "id": "Q-Uj3ubTCBT6"
      }
    },
    {
      "cell_type": "code",
      "execution_count": 50,
      "metadata": {
        "colab": {
          "base_uri": "https://localhost:8080/"
        },
        "id": "PfOQqWkYA9Hj",
        "outputId": "6a318617-68f9-46ce-9a92-a1af60bd1693"
      },
      "outputs": [
        {
          "output_type": "stream",
          "name": "stdout",
          "text": [
            "Original Message:\tcryptolocker\n",
            "Ciphertext:\t\t[9184368 2386376  436555 2613276 6307876 2100425 9459792 8092668 7693952\n",
            " 4206357 9255307  936398]\n",
            "Decrypted:\t\tcryptolocker\n"
          ]
        }
      ],
      "source": [
        "from math import ceil\n",
        "import random\n",
        "import numpy as np\n",
        "\n",
        "if __name__==\"__main__\":\n",
        "    message = \"cryptolocker\"\n",
        "    print(f\"Original Message:\\t{message}\")\n",
        "    key = Gen(1000)\n",
        "    ciphertext = Enc(key, message)\n",
        "    print(f\"Ciphertext:\\t\\t{ciphertext}\")\n",
        "    decrypted = Dec(key, ciphertext)\n",
        "    print(f\"Decrypted:\\t\\t{decrypted}\")"
      ]
    },
    {
      "cell_type": "code",
      "source": [],
      "metadata": {
        "id": "5oX5eoFoJWki"
      },
      "execution_count": null,
      "outputs": []
    }
  ]
}