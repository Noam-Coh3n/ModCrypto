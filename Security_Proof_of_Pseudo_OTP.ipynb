{
  "nbformat": 4,
  "nbformat_minor": 0,
  "metadata": {
    "colab": {
      "provenance": [],
      "collapsed_sections": [],
      "include_colab_link": true
    },
    "kernelspec": {
      "name": "python3",
      "display_name": "Python 3"
    }
  },
  "cells": [
    {
      "cell_type": "markdown",
      "metadata": {
        "id": "view-in-github",
        "colab_type": "text"
      },
      "source": [
        "<a href=\"https://colab.research.google.com/github/Noam-Coh3n/ModCrypto/blob/main/Security_Proof_of_Pseudo_OTP.ipynb\" target=\"_parent\"><img src=\"https://colab.research.google.com/assets/colab-badge.svg\" alt=\"Open In Colab\"/></a>"
      ]
    },
    {
      "cell_type": "markdown",
      "metadata": {
        "id": "T0a7vG3veJu6"
      },
      "source": [
        "*Modern Cryptography 2022/23, University of Amsterdam. Teacher: Christian Schaffner* \n",
        "# The Security of Pseudo-OTP\n",
        "\n",
        "## Preliminaries\n",
        "\n",
        "Install the [Python bitstring module](https://pythonhosted.org/bitstring/contents.html)."
      ]
    },
    {
      "cell_type": "code",
      "metadata": {
        "id": "gKsI6sdeeaev",
        "colab": {
          "base_uri": "https://localhost:8080/"
        },
        "outputId": "8f8c5bf3-9b64-40c3-843d-5a039f36eabd"
      },
      "source": [
        "!pip install bitstring\n",
        "\n",
        "from bitstring import Bits, BitArray\n",
        "from tqdm import tqdm\n",
        "from typing import Callable, Tuple\n",
        "import secrets"
      ],
      "execution_count": 29,
      "outputs": [
        {
          "output_type": "stream",
          "name": "stdout",
          "text": [
            "Looking in indexes: https://pypi.org/simple, https://us-python.pkg.dev/colab-wheels/public/simple/\n",
            "Requirement already satisfied: bitstring in /usr/local/lib/python3.7/dist-packages (3.1.9)\n"
          ]
        }
      ]
    },
    {
      "cell_type": "code",
      "metadata": {
        "id": "YtWO6UAj2t3X",
        "colab": {
          "base_uri": "https://localhost:8080/"
        },
        "outputId": "957e28a6-d574-4514-f71e-3fe38c665486"
      },
      "source": [
        "# for n=10 a unary encoding of 1^n is \n",
        "Bits(int=-1, length=10)"
      ],
      "execution_count": 30,
      "outputs": [
        {
          "output_type": "execute_result",
          "data": {
            "text/plain": [
              "Bits('0b1111111111')"
            ]
          },
          "metadata": {},
          "execution_count": 30
        }
      ]
    },
    {
      "cell_type": "markdown",
      "metadata": {
        "id": "kA5dJot7fptT"
      },
      "source": [
        "## A particular (bad) PRG\n",
        "This PRG is bad, as it simply outputs the seed twice, one can easily distinguish this output from fully random strings."
      ]
    },
    {
      "cell_type": "code",
      "metadata": {
        "id": "wuxLiy8rfX41"
      },
      "source": [
        "def G(s: Bits) -> Bits:\n",
        "    \"\"\"\n",
        "    the pseudo-random generator G(s) = s || s\n",
        "    :param s: seed s\n",
        "    :return: the concatenation of s with itself\n",
        "    \"\"\"\n",
        "    return s + s"
      ],
      "execution_count": 31,
      "outputs": []
    },
    {
      "cell_type": "markdown",
      "metadata": {
        "id": "9vGWhPkJfTaQ"
      },
      "source": [
        "## Pseudo One-Time Pad\n",
        "The Pseudo One-Time Pad uses the (bad) PRG above to encrypt (and decrypt) messages (or ciphertexts) by XORing the output of the PRG with the message (or ciphertext)."
      ]
    },
    {
      "cell_type": "code",
      "metadata": {
        "id": "axVDwJyzfrXq"
      },
      "source": [
        "class PseudoOTP(object):\n",
        "    \"\"\" Pseudo OTP \"\"\"\n",
        "    @staticmethod\n",
        "    def Gen(unary_n: Bits) -> Bits:\n",
        "        \"\"\"\n",
        "        takes as input 1^n (the security parameter written in unary) and outputs a key k\n",
        "        :param unary_n: an (arbitrary) input of length n\n",
        "        :return: a random key of length at least n\n",
        "        \"\"\"\n",
        "        n = len(unary_n)\n",
        "        key = Bits(uint=secrets.randbits(n), length=n)\n",
        "        return key\n",
        "\n",
        "    @staticmethod\n",
        "    def Enc(k: Bits, m: Bits) -> Bits:\n",
        "        \"\"\"\n",
        "        encrypts message m with key k\n",
        "        :param k: a key k\n",
        "        :param m: the message to be encrypted\n",
        "        :return: the ciphertext c\n",
        "        \"\"\"\n",
        "        assert len(k) * 2 == len(m), 'the length of message has to be twice the length of the key'\n",
        "        return G(k) ^ m\n",
        "\n",
        "    @staticmethod\n",
        "    def Dec(k: Bits, c: Bits) -> Bits:\n",
        "        \"\"\"\n",
        "        decrypts ciphertext c with key k\n",
        "        :param k: a key k\n",
        "        :param m: the ciphertext to be decrypted\n",
        "        :return: the message m\n",
        "        \"\"\"\n",
        "        assert len(k) * 2 == len(c), 'the length of the ciphertext has to be twice the length of the key'\n",
        "        return G(k) ^ c"
      ],
      "execution_count": 62,
      "outputs": []
    },
    {
      "cell_type": "markdown",
      "metadata": {
        "id": "wayhleZagaWN"
      },
      "source": [
        "## Generic attacker playing in the $\\mathsf{PrivK}^{\\mathsf{eav}}_{\\mathcal{A}, \\Pi}$ game\n"
      ]
    },
    {
      "cell_type": "code",
      "metadata": {
        "id": "5juWw8L0hXDd"
      },
      "source": [
        "class Adversary(object):\n",
        "    \"\"\" adversary playing in PrivK^eav game \"\"\"\n",
        "    @staticmethod\n",
        "    def challenge_plaintexts(unary_n: Bits) -> Tuple[Bits, Bits]:\n",
        "        \"\"\"\n",
        "        The first part of the adversary receives the security parameter n and returns two challenge plaintexts\n",
        "        of the same length\n",
        "        :param unary_n: unary encoding of security parameter\n",
        "        :return: (m0, m1) two challenge plaintexts of the same length\n",
        "        \"\"\"\n",
        "        n = len(unary_n)  # security parameter\n",
        "        allzero = Bits(uint=0, length=2*n)\n",
        "        return allzero, allzero\n",
        "\n",
        "    @staticmethod\n",
        "    def guess_bit(c: Bits) -> int:\n",
        "        \"\"\"\n",
        "        The second part of the adversary receives the challenge ciphertext from the challenger and has to guess which\n",
        "        of its two challenge plaintexts was encrypted\n",
        "        :param c:\n",
        "        :return: a guess of which of the two plaintexts were encrypted to c\n",
        "        \"\"\"\n",
        "        n = int(len(c) / 2)\n",
        "        return 0"
      ],
      "execution_count": 63,
      "outputs": []
    },
    {
      "cell_type": "markdown",
      "metadata": {
        "id": "fyD0GVzor8-D"
      },
      "source": [
        "## The $\\mathsf{PrivK}^\\mathsf{eav}$ game"
      ]
    },
    {
      "cell_type": "code",
      "metadata": {
        "id": "lMw3eFS5r707"
      },
      "source": [
        "def PrivK(Pi: PseudoOTP, Adv: Adversary, n: int) -> bool:\n",
        "    \"\"\"\n",
        "    Private-key security game played between a challenger and adversary\n",
        "    1. Adv is given the security parameter and comes up with two challenge plaintexts m_0 and m_1\n",
        "    2. Challenger generates a new secret key and picks a random bit b\n",
        "    3. Chall encrypts message m_b into challenge ciphertext c\n",
        "    4. Based on c, Adv has to guess the bit b in order to win the game\n",
        "\n",
        "    :param Pi: private-key encryption scheme\n",
        "    :param Adv: adversary\n",
        "    :param n: security parameter\n",
        "    :return: a Boolean value whether the Adversary has won the game or not\n",
        "    \"\"\"\n",
        "\n",
        "    # 1. Adv is given the security parameter and comes up with two challenge plaintexts m_0 and m_1\n",
        "    m_0, m_1 = Adv.challenge_plaintexts(Bits(int=-1, length=n))\n",
        "\n",
        "    # 2. Challenger generates a new secret key and picks a random bit b\n",
        "    key = Pi.Gen(Bits(int=-1, length=n))\n",
        "    b = secrets.randbelow(2)\n",
        "\n",
        "    # 3. Challenger encrypts message m_b into challenge ciphertext c\n",
        "    if b == 0:\n",
        "        c = Pi.Enc(key, m_0)\n",
        "    elif b == 1:\n",
        "        c = Pi.Enc(key, m_1)\n",
        "\n",
        "    # 4. Based on c, Adv has to guess the bit b in order to win the game\n",
        "    b_guess = Adv.guess_bit(c)\n",
        "\n",
        "    return b == b_guess\n",
        "\n",
        "\n",
        "def test_adversary(Pi: PseudoOTP, Adv: Adversary, n: int, nr_runs: int) -> int:\n",
        "    \"\"\"\n",
        "    tests how well Adv does when playing in the PrivK security game by executing the game nr_runs times\n",
        "    and taking statistics\n",
        "    :param Pi: private-key encryption scheme\n",
        "    :param A: adversary\n",
        "    :param n: security parameter\n",
        "    :param nr_runs: number of runs of the PrivK_{Pi, Adv}(1^n) game\n",
        "    :return: the number of wins\n",
        "    \"\"\"\n",
        "    wins = 0\n",
        "    for i in tqdm(range(nr_runs)):\n",
        "        if PrivK(Pi, Adv, n):\n",
        "            wins += 1\n",
        "\n",
        "    print(\"\\nout of {} runs, the adversary has won {}\".format(nr_runs, wins))\n",
        "    return wins"
      ],
      "execution_count": 67,
      "outputs": []
    },
    {
      "cell_type": "markdown",
      "metadata": {
        "id": "J3A1c78Hsji_"
      },
      "source": [
        "# Build a succesful adversary!\n",
        "**adjust the adversary below so that the following assertion holds, and explain how it works!**"
      ]
    },
    {
      "cell_type": "code",
      "metadata": {
        "id": "2EYIos0MsiAM",
        "colab": {
          "base_uri": "https://localhost:8080/"
        },
        "outputId": "a5532570-2532-4334-e4b0-9c9fc4c8b14c"
      },
      "source": [
        "class OTP_Adversary(Adversary):\n",
        "    \"\"\" adversary playing in PrivK^eav game against Pseudo OTP \"\"\"\n",
        "    @staticmethod\n",
        "    def challenge_plaintexts(unary_n: Bits) -> Tuple[Bits, Bits]:\n",
        "        \"\"\"\n",
        "        The first part of the adversary receives the security parameter n and returns two challenge plaintexts\n",
        "        of the same length\n",
        "        :param unary_n: unary encoding of security parameter\n",
        "        :return: (m0, m1) two challenge plaintexts of the same length\n",
        "        \"\"\"\n",
        "        n = len(unary_n)  # security parameter\n",
        "        allzero = Bits(uint=0, length=2*n)\n",
        "        other = Bits(uint=0, length=2*n-1) + Bits(uint=1, length=1)\n",
        "        return allzero, other\n",
        "\n",
        "    @staticmethod\n",
        "    def guess_bit(c: Bits) -> int:\n",
        "        \"\"\"\n",
        "        The second part of the adversary receives the challenge ciphertext from the challenger and has to guess which\n",
        "        of its two challenge plaintexts was encrypted\n",
        "        :param c:\n",
        "        :return: a guess of which of the two plaintexts were encrypted to c\n",
        "        \"\"\"\n",
        "        n = int(len(c) / 2)\n",
        "        return c[:n] != c[n:]\n",
        "\n",
        "assert test_adversary(PseudoOTP, OTP_Adversary, 5, 1000) > 700, 'build a better adversary!'\n"
      ],
      "execution_count": 69,
      "outputs": [
        {
          "output_type": "stream",
          "name": "stderr",
          "text": [
            "100%|██████████| 1000/1000 [00:00<00:00, 7924.22it/s]"
          ]
        },
        {
          "output_type": "stream",
          "name": "stdout",
          "text": [
            "\n",
            "out of 1000 runs, the adversary has won 1000\n"
          ]
        },
        {
          "output_type": "stream",
          "name": "stderr",
          "text": [
            "\n"
          ]
        }
      ]
    },
    {
      "cell_type": "markdown",
      "metadata": {
        "id": "umrg362ce6nL"
      },
      "source": [
        "## Security Reduction\n",
        "\n",
        "The security proof of Theorem 3.18 in [KL] (also described in [this video](https://canvas.uva.nl/courses/32076/files/7071821)) gives an explicit way how to turn a successful PrivK^eav attacker into a successful distinguisher of the PRG G. Let's see it in action!"
      ]
    },
    {
      "cell_type": "code",
      "metadata": {
        "id": "LQ5o5GTAtA4f"
      },
      "source": [
        "def DistFromAdv(Adv: Adversary, w: Bits) -> bool:\n",
        "    '''\n",
        "    Given a successful attacker of the PseudoOTP scheme, we define a successful distinguisher of the PRG. See proof of\n",
        "    Theorem 3.18 in [KL] and video: https://canvas.uva.nl/courses/32076/files/7071821\n",
        "    :param Adv: a PrivK attacker on the PseudoOTP scheme with PRG G\n",
        "    :param w: input to the PRG\n",
        "    :param n: security parameter\n",
        "    :return: the distinguisher's output bit\n",
        "    '''\n",
        "    # we play the PrivK game towards the adversary\n",
        "\n",
        "    n = int(len(w)/2)  # security parameter, length of plaintexts\n",
        "\n",
        "    # 1. Adv is given the security parameter and comes up with two challenge plaintexts m_0 and m_1\n",
        "    m_0, m_1 = Adv.challenge_plaintexts(Bits(int=-1, length=n))\n",
        "\n",
        "    # 2. Challenger generates a new secret key and picks a random bit b\n",
        "    b = secrets.randbelow(2)\n",
        "\n",
        "    # 3. Instead of encrypting, we pad the message m_b with w\n",
        "    if b == 0:\n",
        "        c = m_0 ^ w\n",
        "    elif b == 1:\n",
        "        c = m_1 ^ w\n",
        "\n",
        "    # 4. Based on c, Adv has to guess the bit b in order to win the game\n",
        "    b_guess = Adv.guess_bit(c)\n",
        "\n",
        "    return b == b_guess"
      ],
      "execution_count": 70,
      "outputs": []
    },
    {
      "cell_type": "markdown",
      "metadata": {
        "id": "-6SfN37EtW5y"
      },
      "source": [
        "## Quality check of a PRG distinguisher"
      ]
    },
    {
      "cell_type": "code",
      "metadata": {
        "id": "GVIJmRaAeE66"
      },
      "source": [
        "def compute_probability_difference(G: Callable[[Bits], Bits], D: Callable[[Bits], bool], n: int) -> float:\n",
        "    \"\"\"\n",
        "    Def 3.14 [KL]: A PRG G is secure if no PPT distinguisher D can distinguish an output from G (with random seed) from\n",
        "    a fully uniform output. Formally, we should have that\n",
        "    | Pr_{s <- {0,1}^n} [ D( G(s) ) = 1 ] - Pr_{w <- {0,1}^G.l_out(n)} [ D(w) = 1 ] | < negl(n)\n",
        "\n",
        "    For small parameters of n, we can brute-force compute these probabilities and output the absolute difference\n",
        "    :param G: PRG candidate function\n",
        "    :param D: PRG distinguisher\n",
        "    :param n: security parameter\n",
        "    :return: the absolute difference in probability\n",
        "    \"\"\"\n",
        "\n",
        "    print(\"Computing \")\n",
        "\n",
        "    l_out = len(G(Bits(uint=0, length=n))) # feed 0^n to G and measure length of the output\n",
        "    assert l_out > n, 'PRG has to be length-expanding'\n",
        "    assert l_out <= 20, 'for output lengths l_out larger than 20, the brute-force computation of the probabilities will take too long'\n",
        "\n",
        "    # compute Pr_{s <- {0,1}^n} [ D( G(s) ) = 1 ]\n",
        "    counter = 0\n",
        "    for s in tqdm(range(0, 2**n)):\n",
        "        w = G(Bits(uint=s, length=n))\n",
        "        if D(w):\n",
        "            counter += 1\n",
        "    pr_g = counter / (2 ** n)\n",
        "\n",
        "    # compute Pr_{w <- {0,1}^G.l_out(n)} [ D(w) = 1 ]\n",
        "    counter = 0\n",
        "    for w in tqdm(range(0, 2**l_out)):\n",
        "        r = Bits(uint=w, length=l_out)\n",
        "        if D(r):\n",
        "            counter += 1\n",
        "    pr_w = counter / (2 ** l_out)\n",
        "\n",
        "    # output difference\n",
        "    print(\"\\n\\n n: {}, l_out: {}\".format(n, l_out))\n",
        "    print('Pr_{{s <- {{0,1}}^{}}} [ D( G(s) ) = 1 ] is {}'.format(n, pr_g))\n",
        "    print(\"Pr_{{w <- {{0,1}}^{}}} [ D(w) = 1 ] is {}\".format(l_out, pr_w))\n",
        "\n",
        "    print('absolute difference: {}'.format(abs(pr_g - pr_w)))\n",
        "    return abs(pr_g - pr_w)"
      ],
      "execution_count": 71,
      "outputs": []
    },
    {
      "cell_type": "markdown",
      "metadata": {
        "id": "VKCYEg5htjj9"
      },
      "source": [
        "Observe that a succesful PrivK^eav attacker also gives a successful PRG distinguisher"
      ]
    },
    {
      "cell_type": "code",
      "metadata": {
        "id": "Nh3Tcwr0tga-",
        "colab": {
          "base_uri": "https://localhost:8080/"
        },
        "outputId": "6276a13b-0ded-4970-ffe0-76719e3f7f8e"
      },
      "source": [
        "n = 6\n",
        "assert compute_probability_difference(G, lambda w: DistFromAdv(OTP_Adversary, w), n) > 0.3"
      ],
      "execution_count": 72,
      "outputs": [
        {
          "output_type": "stream",
          "name": "stdout",
          "text": [
            "Computing \n"
          ]
        },
        {
          "output_type": "stream",
          "name": "stderr",
          "text": [
            "100%|██████████| 64/64 [00:00<00:00, 2893.15it/s]\n",
            "100%|██████████| 4096/4096 [00:00<00:00, 10310.72it/s]"
          ]
        },
        {
          "output_type": "stream",
          "name": "stdout",
          "text": [
            "\n",
            "\n",
            " n: 6, l_out: 12\n",
            "Pr_{s <- {0,1}^6} [ D( G(s) ) = 1 ] is 1.0\n",
            "Pr_{w <- {0,1}^12} [ D(w) = 1 ] is 0.501953125\n",
            "absolute difference: 0.498046875\n"
          ]
        },
        {
          "output_type": "stream",
          "name": "stderr",
          "text": [
            "\n"
          ]
        }
      ]
    },
    {
      "cell_type": "markdown",
      "metadata": {
        "id": "H3qN28Tryozd"
      },
      "source": [
        "while the generic PrivK^eav adversary (that always outputs 0) does not yield a good PRG distinguisher"
      ]
    },
    {
      "cell_type": "code",
      "metadata": {
        "id": "7kuVg8mRyxiq",
        "colab": {
          "base_uri": "https://localhost:8080/"
        },
        "outputId": "b8625922-6a5f-456c-9090-c26191a60875"
      },
      "source": [
        "n = 6\n",
        "compute_probability_difference(G, lambda w: DistFromAdv(Adversary, w), n) > 0.3"
      ],
      "execution_count": 73,
      "outputs": [
        {
          "output_type": "stream",
          "name": "stdout",
          "text": [
            "Computing \n"
          ]
        },
        {
          "output_type": "stream",
          "name": "stderr",
          "text": [
            "100%|██████████| 64/64 [00:00<00:00, 8234.47it/s]\n",
            "100%|██████████| 4096/4096 [00:00<00:00, 10677.55it/s]"
          ]
        },
        {
          "output_type": "stream",
          "name": "stdout",
          "text": [
            "\n",
            "\n",
            " n: 6, l_out: 12\n",
            "Pr_{s <- {0,1}^6} [ D( G(s) ) = 1 ] is 0.546875\n",
            "Pr_{w <- {0,1}^12} [ D(w) = 1 ] is 0.49853515625\n",
            "absolute difference: 0.04833984375\n"
          ]
        },
        {
          "output_type": "stream",
          "name": "stderr",
          "text": [
            "\n"
          ]
        },
        {
          "output_type": "execute_result",
          "data": {
            "text/plain": [
              "False"
            ]
          },
          "metadata": {},
          "execution_count": 73
        }
      ]
    },
    {
      "cell_type": "code",
      "source": [],
      "metadata": {
        "id": "deMfUVtf92rO"
      },
      "execution_count": null,
      "outputs": []
    }
  ]
}